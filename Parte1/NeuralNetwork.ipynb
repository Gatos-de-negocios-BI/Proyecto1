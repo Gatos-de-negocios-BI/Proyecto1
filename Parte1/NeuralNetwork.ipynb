{
 "cells": [
  {
   "cell_type": "markdown",
   "metadata": {},
   "source": [
    "<h1>Proyecto 1</h1>"
   ]
  },
  {
   "cell_type": "code",
   "execution_count": 10,
   "metadata": {},
   "outputs": [],
   "source": [
    "import pandas as pd\n",
    "import nltk\n",
    "import contractions\n",
    "import inflect\n",
    "import re, string\n",
    "from nltk.corpus import stopwords\n",
    "from sklearn.model_selection import train_test_split\n",
    "import numpy as np\n",
    "import matplotlib.pyplot as plt\n",
    "from sklearn.feature_extraction.text import CountVectorizer, TfidfVectorizer\n",
    "from sklearn.metrics import confusion_matrix, ConfusionMatrixDisplay\n",
    "from sklearn.neural_network import MLPClassifier\n",
    "import pickle as pkl\n",
    "from sklearn.metrics import f1_score, precision_score, recall_score, accuracy_score\n",
    "from datetime import datetime"
   ]
  },
  {
   "cell_type": "code",
   "execution_count": 11,
   "metadata": {},
   "outputs": [
    {
     "data": {
      "text/plain": [
       "Index(['text', 'class'], dtype='object')"
      ]
     },
     "execution_count": 11,
     "metadata": {},
     "output_type": "execute_result"
    }
   ],
   "source": [
    "ruta = \"./data/SuicidiosProyecto.csv\"\n",
    "df = pd.read_csv(ruta, encoding=\"utf-8\", index_col=0)\n",
    "df.columns"
   ]
  },
  {
   "cell_type": "code",
   "execution_count": 12,
   "metadata": {},
   "outputs": [
    {
     "data": {
      "text/html": [
       "<div>\n",
       "<style scoped>\n",
       "    .dataframe tbody tr th:only-of-type {\n",
       "        vertical-align: middle;\n",
       "    }\n",
       "\n",
       "    .dataframe tbody tr th {\n",
       "        vertical-align: top;\n",
       "    }\n",
       "\n",
       "    .dataframe thead th {\n",
       "        text-align: right;\n",
       "    }\n",
       "</style>\n",
       "<table border=\"1\" class=\"dataframe\">\n",
       "  <thead>\n",
       "    <tr style=\"text-align: right;\">\n",
       "      <th></th>\n",
       "      <th>text</th>\n",
       "      <th>class</th>\n",
       "    </tr>\n",
       "    <tr>\n",
       "      <th>Unnamed: 0</th>\n",
       "      <th></th>\n",
       "      <th></th>\n",
       "    </tr>\n",
       "  </thead>\n",
       "  <tbody>\n",
       "    <tr>\n",
       "      <th>208143</th>\n",
       "      <td>california is more aesthetic than new york the...</td>\n",
       "      <td>non-suicide</td>\n",
       "    </tr>\n",
       "    <tr>\n",
       "      <th>126160</th>\n",
       "      <td>Desperate and looking for helpI don’t normally...</td>\n",
       "      <td>suicide</td>\n",
       "    </tr>\n",
       "    <tr>\n",
       "      <th>133578</th>\n",
       "      <td>Torn apartMy gf (we were almost 3 years togeth...</td>\n",
       "      <td>suicide</td>\n",
       "    </tr>\n",
       "    <tr>\n",
       "      <th>24128</th>\n",
       "      <td>Just another post.I don't think I'm suicidal. ...</td>\n",
       "      <td>suicide</td>\n",
       "    </tr>\n",
       "    <tr>\n",
       "      <th>146200</th>\n",
       "      <td>Not sure where else to turn. I'm 26 years old....</td>\n",
       "      <td>suicide</td>\n",
       "    </tr>\n",
       "  </tbody>\n",
       "</table>\n",
       "</div>"
      ],
      "text/plain": [
       "                                                         text        class\n",
       "Unnamed: 0                                                                \n",
       "208143      california is more aesthetic than new york the...  non-suicide\n",
       "126160      Desperate and looking for helpI don’t normally...      suicide\n",
       "133578      Torn apartMy gf (we were almost 3 years togeth...      suicide\n",
       "24128       Just another post.I don't think I'm suicidal. ...      suicide\n",
       "146200      Not sure where else to turn. I'm 26 years old....      suicide"
      ]
     },
     "execution_count": 12,
     "metadata": {},
     "output_type": "execute_result"
    }
   ],
   "source": [
    "df.sample(5)"
   ]
  },
  {
   "cell_type": "code",
   "execution_count": 13,
   "metadata": {},
   "outputs": [
    {
     "data": {
      "text/plain": [
       "text     object\n",
       "class    object\n",
       "dtype: object"
      ]
     },
     "execution_count": 13,
     "metadata": {},
     "output_type": "execute_result"
    }
   ],
   "source": [
    "df.dtypes"
   ]
  },
  {
   "cell_type": "code",
   "execution_count": 14,
   "metadata": {},
   "outputs": [
    {
     "data": {
      "text/plain": [
       "non-suicide    0.562928\n",
       "suicide        0.437072\n",
       "Name: class, dtype: float64"
      ]
     },
     "execution_count": 14,
     "metadata": {},
     "output_type": "execute_result"
    }
   ],
   "source": [
    "df['class'].value_counts(dropna=False, normalize=True)"
   ]
  },
  {
   "cell_type": "code",
   "execution_count": 15,
   "metadata": {},
   "outputs": [],
   "source": [
    "df['text'] = df['text'].str.encode('ascii', 'ignore').str.decode('ascii')"
   ]
  },
  {
   "cell_type": "code",
   "execution_count": 16,
   "metadata": {},
   "outputs": [],
   "source": [
    "df['no_constractions'] = df['text'].apply(lambda x: [contractions.fix(word) for word in x.split()])"
   ]
  },
  {
   "cell_type": "code",
   "execution_count": 17,
   "metadata": {},
   "outputs": [],
   "source": [
    "df['text'] = [' '.join(map(str, l)) for l in df['no_constractions']]"
   ]
  },
  {
   "cell_type": "code",
   "execution_count": 22,
   "metadata": {},
   "outputs": [],
   "source": [
    "df['tokenized'] = df['text'].apply(nltk.word_tokenize)"
   ]
  },
  {
   "cell_type": "code",
   "execution_count": 23,
   "metadata": {},
   "outputs": [],
   "source": [
    "df['tokenized'] = df['tokenized'].apply(lambda x: [word.lower() for word in x])"
   ]
  },
  {
   "cell_type": "code",
   "execution_count": 24,
   "metadata": {},
   "outputs": [],
   "source": [
    "punc = string.punctuation\n",
    "df['tokenized'] = df['tokenized'].apply(lambda x: [word for word in x if word not in punc])"
   ]
  },
  {
   "cell_type": "code",
   "execution_count": 25,
   "metadata": {},
   "outputs": [
    {
     "name": "stderr",
     "output_type": "stream",
     "text": [
      "[nltk_data] Downloading package stopwords to\n",
      "[nltk_data]     C:\\Users\\elpin\\AppData\\Roaming\\nltk_data...\n",
      "[nltk_data]   Package stopwords is already up-to-date!\n"
     ]
    }
   ],
   "source": [
    "nltk.download('stopwords')\n",
    "stop_words = set(stopwords.words('english'))\n",
    "df['tokenized'] = df['tokenized'].apply(lambda x: [word for word in x if word not in stop_words])\n"
   ]
  },
  {
   "cell_type": "code",
   "execution_count": 26,
   "metadata": {},
   "outputs": [
    {
     "data": {
      "text/html": [
       "<div>\n",
       "<style scoped>\n",
       "    .dataframe tbody tr th:only-of-type {\n",
       "        vertical-align: middle;\n",
       "    }\n",
       "\n",
       "    .dataframe tbody tr th {\n",
       "        vertical-align: top;\n",
       "    }\n",
       "\n",
       "    .dataframe thead th {\n",
       "        text-align: right;\n",
       "    }\n",
       "</style>\n",
       "<table border=\"1\" class=\"dataframe\">\n",
       "  <thead>\n",
       "    <tr style=\"text-align: right;\">\n",
       "      <th></th>\n",
       "      <th>text</th>\n",
       "      <th>class</th>\n",
       "      <th>no_constractions</th>\n",
       "      <th>tokenized</th>\n",
       "      <th>tokenized_str</th>\n",
       "    </tr>\n",
       "    <tr>\n",
       "      <th>Unnamed: 0</th>\n",
       "      <th></th>\n",
       "      <th></th>\n",
       "      <th></th>\n",
       "      <th></th>\n",
       "      <th></th>\n",
       "    </tr>\n",
       "  </thead>\n",
       "  <tbody>\n",
       "    <tr>\n",
       "      <th>173271</th>\n",
       "      <td>i want to destroy myselffor once everything wa...</td>\n",
       "      <td>suicide</td>\n",
       "      <td>[i, want, to, destroy, myselffor, once, everyt...</td>\n",
       "      <td>[want, destroy, myselffor, everything, startin...</td>\n",
       "      <td>want destroy myselffor everything starting fee...</td>\n",
       "    </tr>\n",
       "    <tr>\n",
       "      <th>336321</th>\n",
       "      <td>I kind of got behind schedule with learning fo...</td>\n",
       "      <td>non-suicide</td>\n",
       "      <td>[I, kind of, got, behind, schedule, with, lear...</td>\n",
       "      <td>[kind, got, behind, schedule, learning, next, ...</td>\n",
       "      <td>kind got behind schedule learning next week te...</td>\n",
       "    </tr>\n",
       "    <tr>\n",
       "      <th>256637</th>\n",
       "      <td>I am just not sure anymoreFirst and foremost: ...</td>\n",
       "      <td>suicide</td>\n",
       "      <td>[I am, just, not, sure, anymoreFirst, and, for...</td>\n",
       "      <td>[sure, anymorefirst, foremost, brazil, judge, ...</td>\n",
       "      <td>sure anymorefirst foremost brazil judge second...</td>\n",
       "    </tr>\n",
       "    <tr>\n",
       "      <th>303772</th>\n",
       "      <td>please give me a reason to liveThats too much ...</td>\n",
       "      <td>suicide</td>\n",
       "      <td>[please, give, me, a, reason, to, liveThats, t...</td>\n",
       "      <td>[please, give, reason, livethats, much, reason...</td>\n",
       "      <td>please give reason livethats much reason live ...</td>\n",
       "    </tr>\n",
       "    <tr>\n",
       "      <th>293747</th>\n",
       "      <td>27f struggling to find meaning moving forwardI...</td>\n",
       "      <td>suicide</td>\n",
       "      <td>[27f, struggling, to, find, meaning, moving, f...</td>\n",
       "      <td>[27f, struggling, find, meaning, moving, forwa...</td>\n",
       "      <td>27f struggling find meaning moving forwardi ad...</td>\n",
       "    </tr>\n",
       "  </tbody>\n",
       "</table>\n",
       "</div>"
      ],
      "text/plain": [
       "                                                         text        class  \\\n",
       "Unnamed: 0                                                                   \n",
       "173271      i want to destroy myselffor once everything wa...      suicide   \n",
       "336321      I kind of got behind schedule with learning fo...  non-suicide   \n",
       "256637      I am just not sure anymoreFirst and foremost: ...      suicide   \n",
       "303772      please give me a reason to liveThats too much ...      suicide   \n",
       "293747      27f struggling to find meaning moving forwardI...      suicide   \n",
       "\n",
       "                                             no_constractions  \\\n",
       "Unnamed: 0                                                      \n",
       "173271      [i, want, to, destroy, myselffor, once, everyt...   \n",
       "336321      [I, kind of, got, behind, schedule, with, lear...   \n",
       "256637      [I am, just, not, sure, anymoreFirst, and, for...   \n",
       "303772      [please, give, me, a, reason, to, liveThats, t...   \n",
       "293747      [27f, struggling, to, find, meaning, moving, f...   \n",
       "\n",
       "                                                    tokenized  \\\n",
       "Unnamed: 0                                                      \n",
       "173271      [want, destroy, myselffor, everything, startin...   \n",
       "336321      [kind, got, behind, schedule, learning, next, ...   \n",
       "256637      [sure, anymorefirst, foremost, brazil, judge, ...   \n",
       "303772      [please, give, reason, livethats, much, reason...   \n",
       "293747      [27f, struggling, find, meaning, moving, forwa...   \n",
       "\n",
       "                                                tokenized_str  \n",
       "Unnamed: 0                                                     \n",
       "173271      want destroy myselffor everything starting fee...  \n",
       "336321      kind got behind schedule learning next week te...  \n",
       "256637      sure anymorefirst foremost brazil judge second...  \n",
       "303772      please give reason livethats much reason live ...  \n",
       "293747      27f struggling find meaning moving forwardi ad...  "
      ]
     },
     "execution_count": 26,
     "metadata": {},
     "output_type": "execute_result"
    }
   ],
   "source": [
    "df['tokenized_str'] = [' '.join(map(str,l)) for l in df['tokenized']]\n",
    "df.head()"
   ]
  },
  {
   "cell_type": "code",
   "execution_count": 27,
   "metadata": {},
   "outputs": [
    {
     "data": {
      "text/html": [
       "<div>\n",
       "<style scoped>\n",
       "    .dataframe tbody tr th:only-of-type {\n",
       "        vertical-align: middle;\n",
       "    }\n",
       "\n",
       "    .dataframe tbody tr th {\n",
       "        vertical-align: top;\n",
       "    }\n",
       "\n",
       "    .dataframe thead th {\n",
       "        text-align: right;\n",
       "    }\n",
       "</style>\n",
       "<table border=\"1\" class=\"dataframe\">\n",
       "  <thead>\n",
       "    <tr style=\"text-align: right;\">\n",
       "      <th></th>\n",
       "      <th>text</th>\n",
       "      <th>class</th>\n",
       "      <th>no_constractions</th>\n",
       "      <th>tokenized</th>\n",
       "      <th>tokenized_str</th>\n",
       "    </tr>\n",
       "    <tr>\n",
       "      <th>Unnamed: 0</th>\n",
       "      <th></th>\n",
       "      <th></th>\n",
       "      <th></th>\n",
       "      <th></th>\n",
       "      <th></th>\n",
       "    </tr>\n",
       "  </thead>\n",
       "  <tbody>\n",
       "    <tr>\n",
       "      <th>210088</th>\n",
       "      <td>Please, someone talk to me.I am horribly depre...</td>\n",
       "      <td>suicide</td>\n",
       "      <td>[Please,, someone, talk, to, me.I, am, horribl...</td>\n",
       "      <td>[please, someone, talk, me.i, horribly, depres...</td>\n",
       "      <td>please someone talk me.i horribly depressed su...</td>\n",
       "    </tr>\n",
       "    <tr>\n",
       "      <th>37308</th>\n",
       "      <td>i want to die and at the same time i do not i ...</td>\n",
       "      <td>non-suicide</td>\n",
       "      <td>[i, want, to, die, and, at, the, same, time, i...</td>\n",
       "      <td>[want, die, time, want, die, family, want, liv...</td>\n",
       "      <td>want die time want die family want live friend...</td>\n",
       "    </tr>\n",
       "    <tr>\n",
       "      <th>118380</th>\n",
       "      <td>I am a burden to everyoneI do not think I dese...</td>\n",
       "      <td>suicide</td>\n",
       "      <td>[I am, a, burden, to, everyoneI, do not, think...</td>\n",
       "      <td>[burden, everyonei, think, deserve, alive, wil...</td>\n",
       "      <td>burden everyonei think deserve alive willpower...</td>\n",
       "    </tr>\n",
       "    <tr>\n",
       "      <th>185746</th>\n",
       "      <td>if being cute was illegal then I am under arre...</td>\n",
       "      <td>non-suicide</td>\n",
       "      <td>[if, being, cute, was, illegal, then, I am, un...</td>\n",
       "      <td>[cute, illegal, arrest, selling, amphetamine, ...</td>\n",
       "      <td>cute illegal arrest selling amphetamine 4th gr...</td>\n",
       "    </tr>\n",
       "    <tr>\n",
       "      <th>44576</th>\n",
       "      <td>Life is pointlessThe meaning of life is to jus...</td>\n",
       "      <td>suicide</td>\n",
       "      <td>[Life, is, pointlessThe, meaning, of, life, is...</td>\n",
       "      <td>[life, pointlessthe, meaning, life, reproduce,...</td>\n",
       "      <td>life pointlessthe meaning life reproduce die w...</td>\n",
       "    </tr>\n",
       "  </tbody>\n",
       "</table>\n",
       "</div>"
      ],
      "text/plain": [
       "                                                         text        class  \\\n",
       "Unnamed: 0                                                                   \n",
       "210088      Please, someone talk to me.I am horribly depre...      suicide   \n",
       "37308       i want to die and at the same time i do not i ...  non-suicide   \n",
       "118380      I am a burden to everyoneI do not think I dese...      suicide   \n",
       "185746      if being cute was illegal then I am under arre...  non-suicide   \n",
       "44576       Life is pointlessThe meaning of life is to jus...      suicide   \n",
       "\n",
       "                                             no_constractions  \\\n",
       "Unnamed: 0                                                      \n",
       "210088      [Please,, someone, talk, to, me.I, am, horribl...   \n",
       "37308       [i, want, to, die, and, at, the, same, time, i...   \n",
       "118380      [I am, a, burden, to, everyoneI, do not, think...   \n",
       "185746      [if, being, cute, was, illegal, then, I am, un...   \n",
       "44576       [Life, is, pointlessThe, meaning, of, life, is...   \n",
       "\n",
       "                                                    tokenized  \\\n",
       "Unnamed: 0                                                      \n",
       "210088      [please, someone, talk, me.i, horribly, depres...   \n",
       "37308       [want, die, time, want, die, family, want, liv...   \n",
       "118380      [burden, everyonei, think, deserve, alive, wil...   \n",
       "185746      [cute, illegal, arrest, selling, amphetamine, ...   \n",
       "44576       [life, pointlessthe, meaning, life, reproduce,...   \n",
       "\n",
       "                                                tokenized_str  \n",
       "Unnamed: 0                                                     \n",
       "210088      please someone talk me.i horribly depressed su...  \n",
       "37308       want die time want die family want live friend...  \n",
       "118380      burden everyonei think deserve alive willpower...  \n",
       "185746      cute illegal arrest selling amphetamine 4th gr...  \n",
       "44576       life pointlessthe meaning life reproduce die w...  "
      ]
     },
     "execution_count": 27,
     "metadata": {},
     "output_type": "execute_result"
    }
   ],
   "source": [
    "df.sample(5)"
   ]
  },
  {
   "cell_type": "code",
   "execution_count": 28,
   "metadata": {},
   "outputs": [],
   "source": [
    "x_train, x_test, y_train, y_test = train_test_split(df['tokenized_str'], df['class'], test_size=0.3, random_state=28)"
   ]
  },
  {
   "cell_type": "code",
   "execution_count": 40,
   "metadata": {},
   "outputs": [
    {
     "data": {
      "image/png": "[encoded data removed]",
      "text/plain": [
       "<Figure size 864x864 with 2 Axes>"
      ]
     },
     "metadata": {},
     "output_type": "display_data"
    }
   ],
   "source": [
    "fig, ax = plt.subplots(1, 2, figsize=(12, 12))\n",
    "ax[0].pie(y_train.value_counts(), labels=y_train.value_counts().index, autopct='%1.1f%%')\n",
    "ax[0].set_title('Train')\n",
    "ax[1].pie(y_test.value_counts(), labels=y_test.value_counts().index, autopct='%1.1f%%')\n",
    "ax[1].set_title('Test')\n",
    "plt.show()"
   ]
  },
  {
   "cell_type": "code",
   "execution_count": 43,
   "metadata": {},
   "outputs": [
    {
     "name": "stderr",
     "output_type": "stream",
     "text": [
      "[nltk_data] Downloading package stopwords to\n",
      "[nltk_data]     C:\\Users\\elpin\\AppData\\Roaming\\nltk_data...\n",
      "[nltk_data]   Package stopwords is already up-to-date!\n"
     ]
    },
    {
     "data": {
      "text/plain": [
       "{'',\n",
       " '01457654035',\n",
       " '3624',\n",
       " '3904512441',\n",
       " '4661',\n",
       " 'a',\n",
       " 'about',\n",
       " 'above',\n",
       " 'after',\n",
       " 'again',\n",
       " 'against',\n",
       " 'ain',\n",
       " 'all',\n",
       " 'am',\n",
       " 'an',\n",
       " 'and',\n",
       " 'any',\n",
       " 'are',\n",
       " 'aren',\n",
       " \"aren't\",\n",
       " 'as',\n",
       " 'at',\n",
       " 'be',\n",
       " 'because',\n",
       " 'been',\n",
       " 'before',\n",
       " 'being',\n",
       " 'below',\n",
       " 'between',\n",
       " 'both',\n",
       " 'but',\n",
       " 'by',\n",
       " 'can',\n",
       " 'couldn',\n",
       " \"couldn't\",\n",
       " 'd',\n",
       " 'did',\n",
       " 'didn',\n",
       " \"didn't\",\n",
       " 'do',\n",
       " 'does',\n",
       " 'doesn',\n",
       " \"doesn't\",\n",
       " 'doing',\n",
       " 'don',\n",
       " \"don't\",\n",
       " 'down',\n",
       " 'during',\n",
       " 'each',\n",
       " 'few',\n",
       " 'for',\n",
       " 'from',\n",
       " 'further',\n",
       " 'had',\n",
       " 'hadn',\n",
       " \"hadn't\",\n",
       " 'has',\n",
       " 'hasn',\n",
       " \"hasn't\",\n",
       " 'have',\n",
       " 'haven',\n",
       " \"haven't\",\n",
       " 'having',\n",
       " 'he',\n",
       " 'her',\n",
       " 'here',\n",
       " 'hers',\n",
       " 'herself',\n",
       " 'him',\n",
       " 'himself',\n",
       " 'his',\n",
       " 'how',\n",
       " 'i',\n",
       " 'if',\n",
       " 'in',\n",
       " 'into',\n",
       " 'is',\n",
       " 'isn',\n",
       " \"isn't\",\n",
       " 'it',\n",
       " \"it's\",\n",
       " 'its',\n",
       " 'itself',\n",
       " 'ja',\n",
       " 'just',\n",
       " 'll',\n",
       " 'm',\n",
       " 'ma',\n",
       " 'me',\n",
       " 'meeeeeeeeeeee',\n",
       " 'mesooo',\n",
       " 'mightn',\n",
       " \"mightn't\",\n",
       " 'more',\n",
       " 'most',\n",
       " 'mustn',\n",
       " \"mustn't\",\n",
       " 'my',\n",
       " 'myself',\n",
       " 'needn',\n",
       " \"needn't\",\n",
       " 'no',\n",
       " 'nor',\n",
       " 'not',\n",
       " 'now',\n",
       " 'o',\n",
       " 'of',\n",
       " 'off',\n",
       " 'on',\n",
       " 'once',\n",
       " 'only',\n",
       " 'or',\n",
       " 'other',\n",
       " 'our',\n",
       " 'ours',\n",
       " 'ourselves',\n",
       " 'out',\n",
       " 'over',\n",
       " 'own',\n",
       " 're',\n",
       " 'reaally',\n",
       " 's',\n",
       " 'same',\n",
       " 'shan',\n",
       " \"shan't\",\n",
       " 'she',\n",
       " \"she's\",\n",
       " 'should',\n",
       " \"should've\",\n",
       " 'shouldn',\n",
       " \"shouldn't\",\n",
       " 'so',\n",
       " 'some',\n",
       " 'such',\n",
       " 't',\n",
       " 'than',\n",
       " 'that',\n",
       " \"that'll\",\n",
       " 'the',\n",
       " 'their',\n",
       " 'theirs',\n",
       " 'them',\n",
       " 'themselves',\n",
       " 'then',\n",
       " 'there',\n",
       " 'these',\n",
       " 'they',\n",
       " 'this',\n",
       " 'those',\n",
       " 'through',\n",
       " 'to',\n",
       " 'too',\n",
       " 'under',\n",
       " 'until',\n",
       " 'up',\n",
       " 've',\n",
       " 'very',\n",
       " 'was',\n",
       " 'wasn',\n",
       " \"wasn't\",\n",
       " 'we',\n",
       " 'were',\n",
       " 'weren',\n",
       " \"weren't\",\n",
       " 'what',\n",
       " 'when',\n",
       " 'where',\n",
       " 'which',\n",
       " 'while',\n",
       " 'who',\n",
       " 'whom',\n",
       " 'why',\n",
       " 'will',\n",
       " 'with',\n",
       " 'won',\n",
       " \"won't\",\n",
       " 'wouldn',\n",
       " \"wouldn't\",\n",
       " 'y',\n",
       " 'you',\n",
       " \"you'd\",\n",
       " \"you'll\",\n",
       " \"you're\",\n",
       " \"you've\",\n",
       " 'your',\n",
       " 'yours',\n",
       " 'yourself',\n",
       " 'yourselves',\n",
       " 'ان فرع'}"
      ]
     },
     "execution_count": 43,
     "metadata": {},
     "output_type": "execute_result"
    }
   ],
   "source": [
    "from nltk.corpus import stopwords\n",
    "nltk.download('stopwords')\n",
    "stopwords = set(stopwords.words('english'))\n",
    "stopwords.union({'4661', 'meeeeeeeeeeee', 'ja', '01457654035', 'reaally', '3624', '3904512441', 'mesooo', 'ان فرع', ''})"
   ]
  },
  {
   "cell_type": "code",
   "execution_count": 44,
   "metadata": {},
   "outputs": [],
   "source": [
    "def tokenize(text):\n",
    "    tokenizer = nltk.TweetTokenizer()\n",
    "    return tokenizer.tokenize(text)"
   ]
  },
  {
   "cell_type": "code",
   "execution_count": 45,
   "metadata": {},
   "outputs": [
    {
     "name": "stderr",
     "output_type": "stream",
     "text": [
      "c:\\Users\\elpin\\AppData\\Local\\Programs\\Python\\Python38\\lib\\site-packages\\sklearn\\feature_extraction\\text.py:524: UserWarning: The parameter 'token_pattern' will not be used since 'tokenizer' is not None'\n",
      "  warnings.warn(\n",
      "c:\\Users\\elpin\\AppData\\Local\\Programs\\Python\\Python38\\lib\\site-packages\\sklearn\\utils\\deprecation.py:87: FutureWarning: Function get_feature_names is deprecated; get_feature_names is deprecated in 1.0 and will be removed in 1.2. Please use get_feature_names_out instead.\n",
      "  warnings.warn(msg, category=FutureWarning)\n"
     ]
    },
    {
     "data": {
      "text/plain": [
       "138374"
      ]
     },
     "execution_count": 45,
     "metadata": {},
     "output_type": "execute_result"
    }
   ],
   "source": [
    "bow = CountVectorizer(tokenizer=tokenize, stop_words=stopwords)\n",
    "bow.fit(x_train)\n",
    "x_train_bow = bow.fit_transform(x_train)\n",
    "x_test_bow = bow.transform(x_test)\n",
    "len(bow.get_feature_names())"
   ]
  },
  {
   "cell_type": "code",
   "execution_count": 46,
   "metadata": {},
   "outputs": [
    {
     "data": {
      "text/plain": [
       "138374"
      ]
     },
     "execution_count": 46,
     "metadata": {},
     "output_type": "execute_result"
    }
   ],
   "source": [
    "tfidf = TfidfVectorizer(tokenizer=tokenize, stop_words=stopwords)\n",
    "x_train_tfidf = tfidf.fit_transform(x_train)\n",
    "x_test_tfidf = tfidf.transform(x_test)\n",
    "len(tfidf.get_feature_names())"
   ]
  },
  {
   "cell_type": "code",
   "execution_count": 47,
   "metadata": {},
   "outputs": [],
   "source": [
    "pkl.dump(x_train_bow, open('data/x_train_bow.pkl', 'wb'))\n",
    "pkl.dump(x_test_bow, open('data/x_test_bow.pkl', 'wb'))\n",
    "pkl.dump(x_train_tfidf, open('data/x_train_tfidf.pkl', 'wb'))\n",
    "pkl.dump(x_test_tfidf, open('data/x_test_tfidf.pkl', 'wb'))"
   ]
  },
  {
   "cell_type": "code",
   "execution_count": 48,
   "metadata": {},
   "outputs": [],
   "source": [
    "x_train_bow = pkl.load(open('data/x_train_bow.pkl', 'rb'))\n",
    "x_test_bow = pkl.load(open('data/x_test_bow.pkl', 'rb'))"
   ]
  },
  {
   "cell_type": "code",
   "execution_count": 49,
   "metadata": {},
   "outputs": [],
   "source": [
    "x_train_tfidf = pkl.load(open('data/x_train_tfidf.pkl', 'rb'))\n",
    "x_test_tfidf = pkl.load(open('data/x_test_tfidf.pkl', 'rb'))"
   ]
  },
  {
   "cell_type": "markdown",
   "metadata": {},
   "source": [
    "<h3>Red neuronal usando BoW</h3>"
   ]
  },
  {
   "cell_type": "code",
   "execution_count": 50,
   "metadata": {},
   "outputs": [],
   "source": [
    "bow_model = MLPClassifier(verbose=True, early_stopping=True)"
   ]
  },
  {
   "cell_type": "code",
   "execution_count": 51,
   "metadata": {},
   "outputs": [
    {
     "name": "stdout",
     "output_type": "stream",
     "text": [
      "Iteration 1, loss = 0.23484188\n",
      "Validation score: 0.931747\n",
      "Iteration 2, loss = 0.13249830\n",
      "Validation score: 0.935178\n",
      "Iteration 3, loss = 0.09347592\n",
      "Validation score: 0.932550\n",
      "Iteration 4, loss = 0.06912030\n",
      "Validation score: 0.933791\n",
      "Iteration 5, loss = 0.05147521\n",
      "Validation score: 0.932258\n",
      "Iteration 6, loss = 0.03767040\n",
      "Validation score: 0.932550\n",
      "Iteration 7, loss = 0.02967210\n",
      "Validation score: 0.930652\n",
      "Iteration 8, loss = 0.02995733\n",
      "Validation score: 0.929703\n",
      "Iteration 9, loss = 0.02303927\n",
      "Validation score: 0.929776\n",
      "Iteration 10, loss = 0.01986214\n",
      "Validation score: 0.931966\n",
      "Iteration 11, loss = 0.01636582\n",
      "Validation score: 0.929922\n",
      "Iteration 12, loss = 0.01537821\n",
      "Validation score: 0.923133\n",
      "Iteration 13, loss = 0.02136345\n",
      "Validation score: 0.929776\n",
      "Validation score did not improve more than tol=0.000100 for 10 consecutive epochs. Stopping.\n"
     ]
    },
    {
     "data": {
      "text/html": [
       "<style>#sk-container-id-1 {color: black;background-color: white;}#sk-container-id-1 pre{padding: 0;}#sk-container-id-1 div.sk-toggleable {background-color: white;}#sk-container-id-1 label.sk-toggleable__label {cursor: pointer;display: block;width: 100%;margin-bottom: 0;padding: 0.3em;box-sizing: border-box;text-align: center;}#sk-container-id-1 label.sk-toggleable__label-arrow:before {content: \"▸\";float: left;margin-right: 0.25em;color: #696969;}#sk-container-id-1 label.sk-toggleable__label-arrow:hover:before {color: black;}#sk-container-id-1 div.sk-estimator:hover label.sk-toggleable__label-arrow:before {color: black;}#sk-container-id-1 div.sk-toggleable__content {max-height: 0;max-width: 0;overflow: hidden;text-align: left;background-color: #f0f8ff;}#sk-container-id-1 div.sk-toggleable__content pre {margin: 0.2em;color: black;border-radius: 0.25em;background-color: #f0f8ff;}#sk-container-id-1 input.sk-toggleable__control:checked~div.sk-toggleable__content {max-height: 200px;max-width: 100%;overflow: auto;}#sk-container-id-1 input.sk-toggleable__control:checked~label.sk-toggleable__label-arrow:before {content: \"▾\";}#sk-container-id-1 div.sk-estimator input.sk-toggleable__control:checked~label.sk-toggleable__label {background-color: #d4ebff;}#sk-container-id-1 div.sk-label input.sk-toggleable__control:checked~label.sk-toggleable__label {background-color: #d4ebff;}#sk-container-id-1 input.sk-hidden--visually {border: 0;clip: rect(1px 1px 1px 1px);clip: rect(1px, 1px, 1px, 1px);height: 1px;margin: -1px;overflow: hidden;padding: 0;position: absolute;width: 1px;}#sk-container-id-1 div.sk-estimator {font-family: monospace;background-color: #f0f8ff;border: 1px dotted black;border-radius: 0.25em;box-sizing: border-box;margin-bottom: 0.5em;}#sk-container-id-1 div.sk-estimator:hover {background-color: #d4ebff;}#sk-container-id-1 div.sk-parallel-item::after {content: \"\";width: 100%;border-bottom: 1px solid gray;flex-grow: 1;}#sk-container-id-1 div.sk-label:hover label.sk-toggleable__label {background-color: #d4ebff;}#sk-container-id-1 div.sk-serial::before {content: \"\";position: absolute;border-left: 1px solid gray;box-sizing: border-box;top: 0;bottom: 0;left: 50%;z-index: 0;}#sk-container-id-1 div.sk-serial {display: flex;flex-direction: column;align-items: center;background-color: white;padding-right: 0.2em;padding-left: 0.2em;position: relative;}#sk-container-id-1 div.sk-item {position: relative;z-index: 1;}#sk-container-id-1 div.sk-parallel {display: flex;align-items: stretch;justify-content: center;background-color: white;position: relative;}#sk-container-id-1 div.sk-item::before, #sk-container-id-1 div.sk-parallel-item::before {content: \"\";position: absolute;border-left: 1px solid gray;box-sizing: border-box;top: 0;bottom: 0;left: 50%;z-index: -1;}#sk-container-id-1 div.sk-parallel-item {display: flex;flex-direction: column;z-index: 1;position: relative;background-color: white;}#sk-container-id-1 div.sk-parallel-item:first-child::after {align-self: flex-end;width: 50%;}#sk-container-id-1 div.sk-parallel-item:last-child::after {align-self: flex-start;width: 50%;}#sk-container-id-1 div.sk-parallel-item:only-child::after {width: 0;}#sk-container-id-1 div.sk-dashed-wrapped {border: 1px dashed gray;margin: 0 0.4em 0.5em 0.4em;box-sizing: border-box;padding-bottom: 0.4em;background-color: white;}#sk-container-id-1 div.sk-label label {font-family: monospace;font-weight: bold;display: inline-block;line-height: 1.2em;}#sk-container-id-1 div.sk-label-container {text-align: center;}#sk-container-id-1 div.sk-container {/* jupyter's `normalize.less` sets `[hidden] { display: none; }` but bootstrap.min.css set `[hidden] { display: none !important; }` so we also need the `!important` here to be able to override the default hidden behavior on the sphinx rendered scikit-learn.org. See: https://github.com/scikit-learn/scikit-learn/issues/21755 */display: inline-block !important;position: relative;}#sk-container-id-1 div.sk-text-repr-fallback {display: none;}</style><div id=\"sk-container-id-1\" class=\"sk-top-container\"><div class=\"sk-text-repr-fallback\"><pre>MLPClassifier(early_stopping=True, verbose=True)</pre><b>In a Jupyter environment, please rerun this cell to show the HTML representation or trust the notebook. <br />On GitHub, the HTML representation is unable to render, please try loading this page with nbviewer.org.</b></div><div class=\"sk-container\" hidden><div class=\"sk-item\"><div class=\"sk-estimator sk-toggleable\"><input class=\"sk-toggleable__control sk-hidden--visually\" id=\"sk-estimator-id-1\" type=\"checkbox\" checked><label for=\"sk-estimator-id-1\" class=\"sk-toggleable__label sk-toggleable__label-arrow\">MLPClassifier</label><div class=\"sk-toggleable__content\"><pre>MLPClassifier(early_stopping=True, verbose=True)</pre></div></div></div></div></div>"
      ],
      "text/plain": [
       "MLPClassifier(early_stopping=True, verbose=True)"
      ]
     },
     "execution_count": 51,
     "metadata": {},
     "output_type": "execute_result"
    }
   ],
   "source": [
    "bow_model.fit(x_train_bow, y_train)"
   ]
  },
  {
   "cell_type": "code",
   "execution_count": 52,
   "metadata": {},
   "outputs": [],
   "source": [
    "bow_pred_train = bow_model.predict(x_train_bow)\n",
    "bow_pred_test = bow_model.predict(bow.transform(x_test))"
   ]
  },
  {
   "cell_type": "code",
   "execution_count": 53,
   "metadata": {},
   "outputs": [
    {
     "data": {
      "image/png": "[encoded data removed]",
      "text/plain": [
       "<Figure size 1440x1440 with 8 Axes>"
      ]
     },
     "metadata": {
      "needs_background": "light"
     },
     "output_type": "display_data"
    }
   ],
   "source": [
    "cm_train = confusion_matrix(y_train, bow_pred_train)\n",
    "cm_test = confusion_matrix(y_test, bow_pred_test)\n",
    "cm_train_norm = confusion_matrix(y_train, bow_pred_train, normalize='true')\n",
    "cm_test_norm = confusion_matrix(y_test, bow_pred_test, normalize='true')\n",
    "\n",
    "fig, ax = plt.subplots(nrows=2, ncols=2, figsize=(20, 20))\n",
    "ax[0, 0].set_title('Matriz de confusión de entrenamiento')\n",
    "ax[0, 1].set_title('Matriz de confusión de prueba')\n",
    "ax[1, 0].set_title('Matriz de confusión normalizada de entrenamiento')\n",
    "ax[1, 1].set_title('Matriz de confusión normalizada de prueba')\n",
    "disp_train = ConfusionMatrixDisplay(confusion_matrix=cm_train, display_labels=bow_model.classes_)\n",
    "disp_test = ConfusionMatrixDisplay(confusion_matrix=cm_test, display_labels=bow_model.classes_)\n",
    "disp_train_norm = ConfusionMatrixDisplay(confusion_matrix=cm_train_norm, display_labels=bow_model.classes_)\n",
    "disp_test_norm = ConfusionMatrixDisplay(confusion_matrix=cm_test_norm, display_labels=bow_model.classes_)\n",
    "disp_train.plot(ax=ax[0, 0])\n",
    "disp_test.plot(ax=ax[0, 1])\n",
    "disp_train_norm.plot(ax=ax[1, 0])\n",
    "disp_test_norm.plot(ax=ax[1, 1])\n",
    "plt.show()"
   ]
  },
  {
   "cell_type": "code",
   "execution_count": 54,
   "metadata": {},
   "outputs": [
    {
     "data": {
      "text/html": [
       "<div>\n",
       "<style scoped>\n",
       "    .dataframe tbody tr th:only-of-type {\n",
       "        vertical-align: middle;\n",
       "    }\n",
       "\n",
       "    .dataframe tbody tr th {\n",
       "        vertical-align: top;\n",
       "    }\n",
       "\n",
       "    .dataframe thead th {\n",
       "        text-align: right;\n",
       "    }\n",
       "</style>\n",
       "<table border=\"1\" class=\"dataframe\">\n",
       "  <thead>\n",
       "    <tr style=\"text-align: right;\">\n",
       "      <th></th>\n",
       "      <th>Train</th>\n",
       "      <th>Test</th>\n",
       "    </tr>\n",
       "  </thead>\n",
       "  <tbody>\n",
       "    <tr>\n",
       "      <th>Accuracy</th>\n",
       "      <td>0.966516</td>\n",
       "      <td>0.935735</td>\n",
       "    </tr>\n",
       "    <tr>\n",
       "      <th>Precision</th>\n",
       "      <td>0.966527</td>\n",
       "      <td>0.935703</td>\n",
       "    </tr>\n",
       "    <tr>\n",
       "      <th>Recall</th>\n",
       "      <td>0.966516</td>\n",
       "      <td>0.935735</td>\n",
       "    </tr>\n",
       "    <tr>\n",
       "      <th>F1</th>\n",
       "      <td>0.966520</td>\n",
       "      <td>0.935709</td>\n",
       "    </tr>\n",
       "  </tbody>\n",
       "</table>\n",
       "</div>"
      ],
      "text/plain": [
       "              Train      Test\n",
       "Accuracy   0.966516  0.935735\n",
       "Precision  0.966527  0.935703\n",
       "Recall     0.966516  0.935735\n",
       "F1         0.966520  0.935709"
      ]
     },
     "execution_count": 54,
     "metadata": {},
     "output_type": "execute_result"
    }
   ],
   "source": [
    "pd.DataFrame([{'Train': accuracy_score(y_train, bow_pred_train), 'Test': accuracy_score(y_test, bow_pred_test)},\n",
    "            {'Train': precision_score(y_train, bow_pred_train, average='weighted'), 'Test': precision_score(y_test, bow_pred_test, average='weighted')},\n",
    "            {'Train': recall_score(y_train, bow_pred_train, average='weighted'), 'Test': recall_score(y_test, bow_pred_test, average='weighted')},\n",
    "            {'Train': f1_score(y_train, bow_pred_train, average='weighted'), 'Test': f1_score(y_test, bow_pred_test, average='weighted')}],\n",
    "            index=['Accuracy', 'Precision', 'Recall', 'F1'])"
   ]
  },
  {
   "cell_type": "code",
   "execution_count": 55,
   "metadata": {},
   "outputs": [],
   "source": [
    "now = datetime.now()\n",
    "date = now.date()\n",
    "time = now.time().strftime(\"%H-%M-%S\")\n",
    "nombre=\"NN/BOW_\"+str(date)+\"_\"+str(time)+\".pkl\"\n",
    "pkl.dump(bow_model,open(nombre,\"wb\"))"
   ]
  },
  {
   "cell_type": "markdown",
   "metadata": {},
   "source": [
    "<h3>Red neuronal usando TF-IDF</h3>"
   ]
  },
  {
   "cell_type": "code",
   "execution_count": 56,
   "metadata": {},
   "outputs": [],
   "source": [
    "tfidf_model = MLPClassifier(verbose=True, early_stopping=True)"
   ]
  },
  {
   "cell_type": "code",
   "execution_count": 57,
   "metadata": {},
   "outputs": [
    {
     "name": "stdout",
     "output_type": "stream",
     "text": [
      "Iteration 1, loss = 0.23575236\n",
      "Validation score: 0.937587\n",
      "Iteration 2, loss = 0.13054059\n",
      "Validation score: 0.938463\n",
      "Iteration 3, loss = 0.09627159\n",
      "Validation score: 0.935835\n",
      "Iteration 4, loss = 0.07157955\n",
      "Validation score: 0.934229\n",
      "Iteration 5, loss = 0.05421980\n",
      "Validation score: 0.932039\n",
      "Iteration 6, loss = 0.04209032\n",
      "Validation score: 0.929776\n",
      "Iteration 7, loss = 0.03342811\n",
      "Validation score: 0.927440\n",
      "Iteration 8, loss = 0.02754499\n",
      "Validation score: 0.925396\n",
      "Iteration 9, loss = 0.02352220\n",
      "Validation score: 0.925542\n",
      "Iteration 10, loss = 0.02059314\n",
      "Validation score: 0.922841\n",
      "Iteration 11, loss = 0.01847304\n",
      "Validation score: 0.923352\n",
      "Iteration 12, loss = 0.01632703\n",
      "Validation score: 0.922330\n",
      "Iteration 13, loss = 0.01494566\n",
      "Validation score: 0.922184\n",
      "Validation score did not improve more than tol=0.000100 for 10 consecutive epochs. Stopping.\n"
     ]
    },
    {
     "data": {
      "text/html": [
       "<style>#sk-container-id-2 {color: black;background-color: white;}#sk-container-id-2 pre{padding: 0;}#sk-container-id-2 div.sk-toggleable {background-color: white;}#sk-container-id-2 label.sk-toggleable__label {cursor: pointer;display: block;width: 100%;margin-bottom: 0;padding: 0.3em;box-sizing: border-box;text-align: center;}#sk-container-id-2 label.sk-toggleable__label-arrow:before {content: \"▸\";float: left;margin-right: 0.25em;color: #696969;}#sk-container-id-2 label.sk-toggleable__label-arrow:hover:before {color: black;}#sk-container-id-2 div.sk-estimator:hover label.sk-toggleable__label-arrow:before {color: black;}#sk-container-id-2 div.sk-toggleable__content {max-height: 0;max-width: 0;overflow: hidden;text-align: left;background-color: #f0f8ff;}#sk-container-id-2 div.sk-toggleable__content pre {margin: 0.2em;color: black;border-radius: 0.25em;background-color: #f0f8ff;}#sk-container-id-2 input.sk-toggleable__control:checked~div.sk-toggleable__content {max-height: 200px;max-width: 100%;overflow: auto;}#sk-container-id-2 input.sk-toggleable__control:checked~label.sk-toggleable__label-arrow:before {content: \"▾\";}#sk-container-id-2 div.sk-estimator input.sk-toggleable__control:checked~label.sk-toggleable__label {background-color: #d4ebff;}#sk-container-id-2 div.sk-label input.sk-toggleable__control:checked~label.sk-toggleable__label {background-color: #d4ebff;}#sk-container-id-2 input.sk-hidden--visually {border: 0;clip: rect(1px 1px 1px 1px);clip: rect(1px, 1px, 1px, 1px);height: 1px;margin: -1px;overflow: hidden;padding: 0;position: absolute;width: 1px;}#sk-container-id-2 div.sk-estimator {font-family: monospace;background-color: #f0f8ff;border: 1px dotted black;border-radius: 0.25em;box-sizing: border-box;margin-bottom: 0.5em;}#sk-container-id-2 div.sk-estimator:hover {background-color: #d4ebff;}#sk-container-id-2 div.sk-parallel-item::after {content: \"\";width: 100%;border-bottom: 1px solid gray;flex-grow: 1;}#sk-container-id-2 div.sk-label:hover label.sk-toggleable__label {background-color: #d4ebff;}#sk-container-id-2 div.sk-serial::before {content: \"\";position: absolute;border-left: 1px solid gray;box-sizing: border-box;top: 0;bottom: 0;left: 50%;z-index: 0;}#sk-container-id-2 div.sk-serial {display: flex;flex-direction: column;align-items: center;background-color: white;padding-right: 0.2em;padding-left: 0.2em;position: relative;}#sk-container-id-2 div.sk-item {position: relative;z-index: 1;}#sk-container-id-2 div.sk-parallel {display: flex;align-items: stretch;justify-content: center;background-color: white;position: relative;}#sk-container-id-2 div.sk-item::before, #sk-container-id-2 div.sk-parallel-item::before {content: \"\";position: absolute;border-left: 1px solid gray;box-sizing: border-box;top: 0;bottom: 0;left: 50%;z-index: -1;}#sk-container-id-2 div.sk-parallel-item {display: flex;flex-direction: column;z-index: 1;position: relative;background-color: white;}#sk-container-id-2 div.sk-parallel-item:first-child::after {align-self: flex-end;width: 50%;}#sk-container-id-2 div.sk-parallel-item:last-child::after {align-self: flex-start;width: 50%;}#sk-container-id-2 div.sk-parallel-item:only-child::after {width: 0;}#sk-container-id-2 div.sk-dashed-wrapped {border: 1px dashed gray;margin: 0 0.4em 0.5em 0.4em;box-sizing: border-box;padding-bottom: 0.4em;background-color: white;}#sk-container-id-2 div.sk-label label {font-family: monospace;font-weight: bold;display: inline-block;line-height: 1.2em;}#sk-container-id-2 div.sk-label-container {text-align: center;}#sk-container-id-2 div.sk-container {/* jupyter's `normalize.less` sets `[hidden] { display: none; }` but bootstrap.min.css set `[hidden] { display: none !important; }` so we also need the `!important` here to be able to override the default hidden behavior on the sphinx rendered scikit-learn.org. See: https://github.com/scikit-learn/scikit-learn/issues/21755 */display: inline-block !important;position: relative;}#sk-container-id-2 div.sk-text-repr-fallback {display: none;}</style><div id=\"sk-container-id-2\" class=\"sk-top-container\"><div class=\"sk-text-repr-fallback\"><pre>MLPClassifier(early_stopping=True, verbose=True)</pre><b>In a Jupyter environment, please rerun this cell to show the HTML representation or trust the notebook. <br />On GitHub, the HTML representation is unable to render, please try loading this page with nbviewer.org.</b></div><div class=\"sk-container\" hidden><div class=\"sk-item\"><div class=\"sk-estimator sk-toggleable\"><input class=\"sk-toggleable__control sk-hidden--visually\" id=\"sk-estimator-id-2\" type=\"checkbox\" checked><label for=\"sk-estimator-id-2\" class=\"sk-toggleable__label sk-toggleable__label-arrow\">MLPClassifier</label><div class=\"sk-toggleable__content\"><pre>MLPClassifier(early_stopping=True, verbose=True)</pre></div></div></div></div></div>"
      ],
      "text/plain": [
       "MLPClassifier(early_stopping=True, verbose=True)"
      ]
     },
     "execution_count": 57,
     "metadata": {},
     "output_type": "execute_result"
    }
   ],
   "source": [
    "tfidf_model.fit(x_train_tfidf, y_train)"
   ]
  },
  {
   "cell_type": "code",
   "execution_count": 58,
   "metadata": {},
   "outputs": [],
   "source": [
    "tfidf_pred_train = tfidf_model.predict(x_train_tfidf)\n",
    "tfidf_pred_test = tfidf_model.predict(tfidf.transform(x_test))"
   ]
  },
  {
   "cell_type": "code",
   "execution_count": 59,
   "metadata": {},
   "outputs": [
    {
     "data": {
      "image/png": "[encoded data removed]",
      "text/plain": [
       "<Figure size 1440x1440 with 8 Axes>"
      ]
     },
     "metadata": {
      "needs_background": "light"
     },
     "output_type": "display_data"
    }
   ],
   "source": [
    "cm_train = confusion_matrix(y_train, tfidf_pred_train)\n",
    "cm_test = confusion_matrix(y_test, tfidf_pred_test)\n",
    "cm_train_norm = confusion_matrix(y_train, tfidf_pred_train, normalize='true')\n",
    "cm_test_norm = confusion_matrix(y_test, tfidf_pred_test, normalize='true')\n",
    "\n",
    "fig, ax = plt.subplots(nrows=2, ncols=2, figsize=(20, 20))\n",
    "ax[0, 0].set_title('Matriz de confusión de entrenamiento')\n",
    "ax[0, 1].set_title('Matriz de confusión de prueba')\n",
    "ax[1, 0].set_title('Matriz de confusión normalizada de entrenamiento')\n",
    "ax[1, 1].set_title('Matriz de confusión normalizada de prueba')\n",
    "disp_train = ConfusionMatrixDisplay(confusion_matrix=cm_train, display_labels=tfidf_model.classes_)\n",
    "disp_test = ConfusionMatrixDisplay(confusion_matrix=cm_test, display_labels=tfidf_model.classes_)\n",
    "disp_train_norm = ConfusionMatrixDisplay(confusion_matrix=cm_train_norm, display_labels=tfidf_model.classes_)\n",
    "disp_test_norm = ConfusionMatrixDisplay(confusion_matrix=cm_test_norm, display_labels=tfidf_model.classes_)\n",
    "disp_train.plot(ax=ax[0, 0])\n",
    "disp_test.plot(ax=ax[0, 1])\n",
    "disp_train_norm.plot(ax=ax[1, 0])\n",
    "disp_test_norm.plot(ax=ax[1, 1])\n",
    "plt.show()"
   ]
  },
  {
   "cell_type": "code",
   "execution_count": 60,
   "metadata": {},
   "outputs": [
    {
     "data": {
      "text/html": [
       "<div>\n",
       "<style scoped>\n",
       "    .dataframe tbody tr th:only-of-type {\n",
       "        vertical-align: middle;\n",
       "    }\n",
       "\n",
       "    .dataframe tbody tr th {\n",
       "        vertical-align: top;\n",
       "    }\n",
       "\n",
       "    .dataframe thead th {\n",
       "        text-align: right;\n",
       "    }\n",
       "</style>\n",
       "<table border=\"1\" class=\"dataframe\">\n",
       "  <thead>\n",
       "    <tr style=\"text-align: right;\">\n",
       "      <th></th>\n",
       "      <th>Train</th>\n",
       "      <th>Test</th>\n",
       "    </tr>\n",
       "  </thead>\n",
       "  <tbody>\n",
       "    <tr>\n",
       "      <th>Accuracy</th>\n",
       "      <td>0.968012</td>\n",
       "      <td>0.939056</td>\n",
       "    </tr>\n",
       "    <tr>\n",
       "      <th>Precision</th>\n",
       "      <td>0.968056</td>\n",
       "      <td>0.939067</td>\n",
       "    </tr>\n",
       "    <tr>\n",
       "      <th>Recall</th>\n",
       "      <td>0.968012</td>\n",
       "      <td>0.939056</td>\n",
       "    </tr>\n",
       "    <tr>\n",
       "      <th>F1</th>\n",
       "      <td>0.968025</td>\n",
       "      <td>0.939061</td>\n",
       "    </tr>\n",
       "  </tbody>\n",
       "</table>\n",
       "</div>"
      ],
      "text/plain": [
       "              Train      Test\n",
       "Accuracy   0.968012  0.939056\n",
       "Precision  0.968056  0.939067\n",
       "Recall     0.968012  0.939056\n",
       "F1         0.968025  0.939061"
      ]
     },
     "execution_count": 60,
     "metadata": {},
     "output_type": "execute_result"
    }
   ],
   "source": [
    "pd.DataFrame([{'Train': accuracy_score(y_train, tfidf_pred_train), 'Test': accuracy_score(y_test, tfidf_pred_test)},\n",
    "            {'Train': precision_score(y_train, tfidf_pred_train, average='weighted'), 'Test': precision_score(y_test, tfidf_pred_test, average='weighted')},\n",
    "            {'Train': recall_score(y_train, tfidf_pred_train, average='weighted'), 'Test': recall_score(y_test, tfidf_pred_test, average='weighted')},\n",
    "            {'Train': f1_score(y_train, tfidf_pred_train, average='weighted'), 'Test': f1_score(y_test, tfidf_pred_test, average='weighted')}],\n",
    "            index=['Accuracy', 'Precision', 'Recall', 'F1'])"
   ]
  },
  {
   "cell_type": "code",
   "execution_count": 61,
   "metadata": {},
   "outputs": [],
   "source": [
    "now = datetime.now()\n",
    "date = now.date()\n",
    "time = now.time().strftime(\"%H-%M-%S\")\n",
    "nombre=\"NN/tfidf_\"+str(date)+\"_\"+str(time)+\".pkl\"\n",
    "pkl.dump(tfidf_model,open(nombre,\"wb\"))"
   ]
  }
 ],
 "metadata": {
  "kernelspec": {
   "display_name": "Python 3.8.5 64-bit",
   "language": "python",
   "name": "python3"
  },
  "language_info": {
   "codemirror_mode": {
    "name": "ipython",
    "version": 3
   },
   "file_extension": ".py",
   "mimetype": "text/x-python",
   "name": "python",
   "nbconvert_exporter": "python",
   "pygments_lexer": "ipython3",
   "version": "3.8.5"
  },
  "orig_nbformat": 4,
  "vscode": {
   "interpreter": {
    "hash": "29bac995d0c570c5b3d713e56b73d69daaa4566681c7e7cdcd767b69a1be78b9"
   }
  }
 },
 "nbformat": 4,
 "nbformat_minor": 2
}
