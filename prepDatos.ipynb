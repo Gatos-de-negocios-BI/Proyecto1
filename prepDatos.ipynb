{
 "cells": [
  {
   "cell_type": "markdown",
   "metadata": {},
   "source": [
    "<h1>Proyecto 1</h1>"
   ]
  },
  {
   "cell_type": "code",
   "execution_count": 24,
   "metadata": {},
   "outputs": [
    {
     "ename": "TypeError",
     "evalue": "Index(...) must be called with a collection of some kind, 0 was passed",
     "output_type": "error",
     "traceback": [
      "\u001b[1;31m---------------------------------------------------------------------------\u001b[0m",
      "\u001b[1;31mTypeError\u001b[0m                                 Traceback (most recent call last)",
      "Cell \u001b[1;32mIn [24], line 6\u001b[0m\n\u001b[0;32m      4\u001b[0m \u001b[39mwith\u001b[39;00m \u001b[39mopen\u001b[39m(input_path, \u001b[39m\"\u001b[39m\u001b[39mr\u001b[39m\u001b[39m\"\u001b[39m, encoding\u001b[39m=\u001b[39m\u001b[39m\"\u001b[39m\u001b[39mutf8\u001b[39m\u001b[39m\"\u001b[39m) \u001b[39mas\u001b[39;00m in_file:\n\u001b[0;32m      5\u001b[0m     csv_reader \u001b[39m=\u001b[39m reader(in_file)\n\u001b[1;32m----> 6\u001b[0m     df \u001b[39m=\u001b[39m pd\u001b[39m.\u001b[39;49mDataFrame([csv_reader], index \u001b[39m=\u001b[39;49m \u001b[39m0\u001b[39;49m)\n",
      "File \u001b[1;32mc:\\Users\\Juliana\\AppData\\Local\\Programs\\Python\\Python39\\lib\\site-packages\\pandas\\core\\frame.py:729\u001b[0m, in \u001b[0;36mDataFrame.__init__\u001b[1;34m(self, data, index, columns, dtype, copy)\u001b[0m\n\u001b[0;32m    720\u001b[0m         columns \u001b[39m=\u001b[39m ensure_index(columns)  \u001b[39m# type: ignore[arg-type]\u001b[39;00m\n\u001b[0;32m    721\u001b[0m     arrays, columns, index \u001b[39m=\u001b[39m nested_data_to_arrays(\n\u001b[0;32m    722\u001b[0m         \u001b[39m# error: Argument 3 to \"nested_data_to_arrays\" has incompatible\u001b[39;00m\n\u001b[0;32m    723\u001b[0m         \u001b[39m# type \"Optional[Collection[Any]]\"; expected \"Optional[Index]\"\u001b[39;00m\n\u001b[1;32m   (...)\u001b[0m\n\u001b[0;32m    727\u001b[0m         dtype,\n\u001b[0;32m    728\u001b[0m     )\n\u001b[1;32m--> 729\u001b[0m     mgr \u001b[39m=\u001b[39m arrays_to_mgr(\n\u001b[0;32m    730\u001b[0m         arrays,\n\u001b[0;32m    731\u001b[0m         columns,\n\u001b[0;32m    732\u001b[0m         index,\n\u001b[0;32m    733\u001b[0m         dtype\u001b[39m=\u001b[39;49mdtype,\n\u001b[0;32m    734\u001b[0m         typ\u001b[39m=\u001b[39;49mmanager,\n\u001b[0;32m    735\u001b[0m     )\n\u001b[0;32m    736\u001b[0m \u001b[39melse\u001b[39;00m:\n\u001b[0;32m    737\u001b[0m     mgr \u001b[39m=\u001b[39m ndarray_to_mgr(\n\u001b[0;32m    738\u001b[0m         data,\n\u001b[0;32m    739\u001b[0m         index,\n\u001b[1;32m   (...)\u001b[0m\n\u001b[0;32m    743\u001b[0m         typ\u001b[39m=\u001b[39mmanager,\n\u001b[0;32m    744\u001b[0m     )\n",
      "File \u001b[1;32mc:\\Users\\Juliana\\AppData\\Local\\Programs\\Python\\Python39\\lib\\site-packages\\pandas\\core\\internals\\construction.py:122\u001b[0m, in \u001b[0;36marrays_to_mgr\u001b[1;34m(arrays, columns, index, dtype, verify_integrity, typ, consolidate)\u001b[0m\n\u001b[0;32m    120\u001b[0m     index \u001b[39m=\u001b[39m _extract_index(arrays)\n\u001b[0;32m    121\u001b[0m \u001b[39melse\u001b[39;00m:\n\u001b[1;32m--> 122\u001b[0m     index \u001b[39m=\u001b[39m ensure_index(index)\n\u001b[0;32m    124\u001b[0m \u001b[39m# don't force copy because getting jammed in an ndarray anyway\u001b[39;00m\n\u001b[0;32m    125\u001b[0m arrays \u001b[39m=\u001b[39m _homogenize(arrays, index, dtype)\n",
      "File \u001b[1;32mc:\\Users\\Juliana\\AppData\\Local\\Programs\\Python\\Python39\\lib\\site-packages\\pandas\\core\\indexes\\base.py:7060\u001b[0m, in \u001b[0;36mensure_index\u001b[1;34m(index_like, copy)\u001b[0m\n\u001b[0;32m   7058\u001b[0m         \u001b[39mreturn\u001b[39;00m Index\u001b[39m.\u001b[39m_with_infer(index_like, copy\u001b[39m=\u001b[39mcopy, tupleize_cols\u001b[39m=\u001b[39m\u001b[39mFalse\u001b[39;00m)\n\u001b[0;32m   7059\u001b[0m \u001b[39melse\u001b[39;00m:\n\u001b[1;32m-> 7060\u001b[0m     \u001b[39mreturn\u001b[39;00m Index\u001b[39m.\u001b[39;49m_with_infer(index_like, copy\u001b[39m=\u001b[39;49mcopy)\n",
      "File \u001b[1;32mc:\\Users\\Juliana\\AppData\\Local\\Programs\\Python\\Python39\\lib\\site-packages\\pandas\\core\\indexes\\base.py:680\u001b[0m, in \u001b[0;36mIndex._with_infer\u001b[1;34m(cls, *args, **kwargs)\u001b[0m\n\u001b[0;32m    678\u001b[0m \u001b[39mwith\u001b[39;00m warnings\u001b[39m.\u001b[39mcatch_warnings():\n\u001b[0;32m    679\u001b[0m     warnings\u001b[39m.\u001b[39mfilterwarnings(\u001b[39m\"\u001b[39m\u001b[39mignore\u001b[39m\u001b[39m\"\u001b[39m, \u001b[39m\"\u001b[39m\u001b[39m.*the Index constructor\u001b[39m\u001b[39m\"\u001b[39m, \u001b[39mFutureWarning\u001b[39;00m)\n\u001b[1;32m--> 680\u001b[0m     result \u001b[39m=\u001b[39m \u001b[39mcls\u001b[39m(\u001b[39m*\u001b[39margs, \u001b[39m*\u001b[39m\u001b[39m*\u001b[39mkwargs)\n\u001b[0;32m    682\u001b[0m \u001b[39mif\u001b[39;00m result\u001b[39m.\u001b[39mdtype \u001b[39m==\u001b[39m _dtype_obj \u001b[39mand\u001b[39;00m \u001b[39mnot\u001b[39;00m result\u001b[39m.\u001b[39m_is_multi:\n\u001b[0;32m    683\u001b[0m     \u001b[39m# error: Argument 1 to \"maybe_convert_objects\" has incompatible type\u001b[39;00m\n\u001b[0;32m    684\u001b[0m     \u001b[39m# \"Union[ExtensionArray, ndarray[Any, Any]]\"; expected\u001b[39;00m\n\u001b[0;32m    685\u001b[0m     \u001b[39m# \"ndarray[Any, Any]\"\u001b[39;00m\n\u001b[0;32m    686\u001b[0m     values \u001b[39m=\u001b[39m lib\u001b[39m.\u001b[39mmaybe_convert_objects(result\u001b[39m.\u001b[39m_values)  \u001b[39m# type: ignore[arg-type]\u001b[39;00m\n",
      "File \u001b[1;32mc:\\Users\\Juliana\\AppData\\Local\\Programs\\Python\\Python39\\lib\\site-packages\\pandas\\core\\indexes\\base.py:508\u001b[0m, in \u001b[0;36mIndex.__new__\u001b[1;34m(cls, data, dtype, copy, name, tupleize_cols, **kwargs)\u001b[0m\n\u001b[0;32m    505\u001b[0m     \u001b[39mreturn\u001b[39;00m klass\u001b[39m.\u001b[39m_simple_new(arr, name)\n\u001b[0;32m    507\u001b[0m \u001b[39melif\u001b[39;00m is_scalar(data):\n\u001b[1;32m--> 508\u001b[0m     \u001b[39mraise\u001b[39;00m \u001b[39mcls\u001b[39m\u001b[39m.\u001b[39m_scalar_data_error(data)\n\u001b[0;32m    509\u001b[0m \u001b[39melif\u001b[39;00m \u001b[39mhasattr\u001b[39m(data, \u001b[39m\"\u001b[39m\u001b[39m__array__\u001b[39m\u001b[39m\"\u001b[39m):\n\u001b[0;32m    510\u001b[0m     \u001b[39mreturn\u001b[39;00m Index(np\u001b[39m.\u001b[39masarray(data), dtype\u001b[39m=\u001b[39mdtype, copy\u001b[39m=\u001b[39mcopy, name\u001b[39m=\u001b[39mname, \u001b[39m*\u001b[39m\u001b[39m*\u001b[39mkwargs)\n",
      "\u001b[1;31mTypeError\u001b[0m: Index(...) must be called with a collection of some kind, 0 was passed"
     ]
    }
   ],
   "source": [
    "from csv import reader\n",
    "\n",
    "input_path = \"SuicidiosProyecto.csv\"\n",
    "with open(input_path, \"r\", encoding=\"utf8\") as in_file:\n",
    "    csv_reader = reader(in_file)\n",
    "    \n",
    " \n"
   ]
  },
  {
   "cell_type": "code",
   "execution_count": 22,
   "metadata": {},
   "outputs": [
    {
     "data": {
      "text/html": [
       "<div>\n",
       "<style scoped>\n",
       "    .dataframe tbody tr th:only-of-type {\n",
       "        vertical-align: middle;\n",
       "    }\n",
       "\n",
       "    .dataframe tbody tr th {\n",
       "        vertical-align: top;\n",
       "    }\n",
       "\n",
       "    .dataframe thead th {\n",
       "        text-align: right;\n",
       "    }\n",
       "</style>\n",
       "<table border=\"1\" class=\"dataframe\">\n",
       "  <thead>\n",
       "    <tr style=\"text-align: right;\">\n",
       "      <th></th>\n",
       "      <th>0</th>\n",
       "      <th>1</th>\n",
       "      <th>2</th>\n",
       "      <th>3</th>\n",
       "      <th>4</th>\n",
       "      <th>5</th>\n",
       "      <th>6</th>\n",
       "      <th>7</th>\n",
       "      <th>8</th>\n",
       "      <th>9</th>\n",
       "      <th>...</th>\n",
       "      <th>195691</th>\n",
       "      <th>195692</th>\n",
       "      <th>195693</th>\n",
       "      <th>195694</th>\n",
       "      <th>195695</th>\n",
       "      <th>195696</th>\n",
       "      <th>195697</th>\n",
       "      <th>195698</th>\n",
       "      <th>195699</th>\n",
       "      <th>195700</th>\n",
       "    </tr>\n",
       "  </thead>\n",
       "  <tbody>\n",
       "    <tr>\n",
       "      <th>0</th>\n",
       "      <td>[Unnamed: 0, text, class]</td>\n",
       "      <td>[173271, i want to destroy myselffor once ever...</td>\n",
       "      <td>[336321, I kinda got behind schedule with lear...</td>\n",
       "      <td>[256637, I'm just not sure anymoreFirst and fo...</td>\n",
       "      <td>[303772, please give me a reason to liveThats ...</td>\n",
       "      <td>[293747, 27f struggling to find meaning moving...</td>\n",
       "      <td>[205651, Let’s get this bread 😎 Anyone know an...</td>\n",
       "      <td>[97174, Day 126 of posting random \"fun\" facts ...</td>\n",
       "      <td>[195945, Little brother is self mutilating. Pl...</td>\n",
       "      <td>[305273, Why do women always go in groups to t...</td>\n",
       "      <td>...</td>\n",
       "      <td>[152145, How can I make it easier on the peopl...</td>\n",
       "      <td>[219653, i hate u/Yasitha87 dont trust them, t...</td>\n",
       "      <td>[72740, its timeparents regret of my birth, ev...</td>\n",
       "      <td>[183813, GoodbyeOkay it’s over, I’m officially...</td>\n",
       "      <td>[115729, Half the part of learning how to unde...</td>\n",
       "      <td>[248038, Drop some cool new cereal ideas Like ...</td>\n",
       "      <td>[216516, Unpopular opinion but cats deserve lo...</td>\n",
       "      <td>[199341, Hey guys :) How yall doin?, non-suicide]</td>\n",
       "      <td>[145373, uhm I covered my dog in a blanket bec...</td>\n",
       "      <td>[305170, ____god. how do i do it. how do i end...</td>\n",
       "    </tr>\n",
       "  </tbody>\n",
       "</table>\n",
       "<p>1 rows × 195701 columns</p>\n",
       "</div>"
      ],
      "text/plain": [
       "                      0       \\\n",
       "0  [Unnamed: 0, text, class]   \n",
       "\n",
       "                                              1       \\\n",
       "0  [173271, i want to destroy myselffor once ever...   \n",
       "\n",
       "                                              2       \\\n",
       "0  [336321, I kinda got behind schedule with lear...   \n",
       "\n",
       "                                              3       \\\n",
       "0  [256637, I'm just not sure anymoreFirst and fo...   \n",
       "\n",
       "                                              4       \\\n",
       "0  [303772, please give me a reason to liveThats ...   \n",
       "\n",
       "                                              5       \\\n",
       "0  [293747, 27f struggling to find meaning moving...   \n",
       "\n",
       "                                              6       \\\n",
       "0  [205651, Let’s get this bread 😎 Anyone know an...   \n",
       "\n",
       "                                              7       \\\n",
       "0  [97174, Day 126 of posting random \"fun\" facts ...   \n",
       "\n",
       "                                              8       \\\n",
       "0  [195945, Little brother is self mutilating. Pl...   \n",
       "\n",
       "                                              9       ...  \\\n",
       "0  [305273, Why do women always go in groups to t...  ...   \n",
       "\n",
       "                                              195691  \\\n",
       "0  [152145, How can I make it easier on the peopl...   \n",
       "\n",
       "                                              195692  \\\n",
       "0  [219653, i hate u/Yasitha87 dont trust them, t...   \n",
       "\n",
       "                                              195693  \\\n",
       "0  [72740, its timeparents regret of my birth, ev...   \n",
       "\n",
       "                                              195694  \\\n",
       "0  [183813, GoodbyeOkay it’s over, I’m officially...   \n",
       "\n",
       "                                              195695  \\\n",
       "0  [115729, Half the part of learning how to unde...   \n",
       "\n",
       "                                              195696  \\\n",
       "0  [248038, Drop some cool new cereal ideas Like ...   \n",
       "\n",
       "                                              195697  \\\n",
       "0  [216516, Unpopular opinion but cats deserve lo...   \n",
       "\n",
       "                                              195698  \\\n",
       "0  [199341, Hey guys :) How yall doin?, non-suicide]   \n",
       "\n",
       "                                              195699  \\\n",
       "0  [145373, uhm I covered my dog in a blanket bec...   \n",
       "\n",
       "                                              195700  \n",
       "0  [305170, ____god. how do i do it. how do i end...  \n",
       "\n",
       "[1 rows x 195701 columns]"
      ]
     },
     "execution_count": 22,
     "metadata": {},
     "output_type": "execute_result"
    }
   ],
   "source": [
    "df.head()"
   ]
  }
 ],
 "metadata": {
  "kernelspec": {
   "display_name": "Python 3.9.2 64-bit",
   "language": "python",
   "name": "python3"
  },
  "language_info": {
   "codemirror_mode": {
    "name": "ipython",
    "version": 3
   },
   "file_extension": ".py",
   "mimetype": "text/x-python",
   "name": "python",
   "nbconvert_exporter": "python",
   "pygments_lexer": "ipython3",
   "version": "3.9.2"
  },
  "orig_nbformat": 4,
  "vscode": {
   "interpreter": {
    "hash": "c35574a98be30f8d7037e0725b50e433e0b66a30ead3ea7cacc50fbbd8d435ed"
   }
  }
 },
 "nbformat": 4,
 "nbformat_minor": 2
}
