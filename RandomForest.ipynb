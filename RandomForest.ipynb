{
 "cells": [
  {
   "cell_type": "markdown",
   "metadata": {},
   "source": [
    "<h1>Proyecto 1</h1>"
   ]
  },
  {
   "cell_type": "code",
   "execution_count": 3,
   "metadata": {},
   "outputs": [],
   "source": [
    "import pandas as pd\n",
    "import nltk\n",
    "import contractions\n",
    "import inflect\n",
    "import unicodedata, re\n",
    "from nltk.corpus import stopwords\n",
    "from sklearn.model_selection import train_test_split\n",
    "import numpy as np\n",
    "import matplotlib.pyplot as plt\n",
    "from sklearn.feature_extraction.text import CountVectorizer, TfidfVectorizer\n",
    "from sklearn.metrics import accuracy_score as AS\n",
    "from sklearn.metrics import f1_score as F1\n",
    "from sklearn.metrics import precision_score as PS\n",
    "from sklearn.metrics import recall_score as RS\n",
    "from sklearn.metrics import confusion_matrix, ConfusionMatrixDisplay, make_scorer\n",
    "from sklearn.ensemble import RandomForestClassifier"
   ]
  },
  {
   "cell_type": "markdown",
   "metadata": {},
   "source": [
    "Se espera que corra en su computador el comando: \n",
    "- pip install contractions \n",
    "- pip install inflect\n"
   ]
  },
  {
   "cell_type": "markdown",
   "metadata": {},
   "source": [
    "<h1>1. Entendimiento y preparación de datos</h1>"
   ]
  },
  {
   "cell_type": "code",
   "execution_count": 4,
   "metadata": {},
   "outputs": [
    {
     "data": {
      "text/plain": [
       "Index(['text', 'class'], dtype='object')"
      ]
     },
     "execution_count": 4,
     "metadata": {},
     "output_type": "execute_result"
    }
   ],
   "source": [
    "ruta = \"./data/SuicidiosProyecto.csv\"\n",
    "df = pd.read_csv(ruta, encoding=\"utf-8\", index_col=0)\n",
    "df.columns"
   ]
  },
  {
   "cell_type": "code",
   "execution_count": 5,
   "metadata": {},
   "outputs": [
    {
     "data": {
      "text/html": [
       "<div>\n",
       "<style scoped>\n",
       "    .dataframe tbody tr th:only-of-type {\n",
       "        vertical-align: middle;\n",
       "    }\n",
       "\n",
       "    .dataframe tbody tr th {\n",
       "        vertical-align: top;\n",
       "    }\n",
       "\n",
       "    .dataframe thead th {\n",
       "        text-align: right;\n",
       "    }\n",
       "</style>\n",
       "<table border=\"1\" class=\"dataframe\">\n",
       "  <thead>\n",
       "    <tr style=\"text-align: right;\">\n",
       "      <th></th>\n",
       "      <th>text</th>\n",
       "      <th>class</th>\n",
       "    </tr>\n",
       "    <tr>\n",
       "      <th>Unnamed: 0</th>\n",
       "      <th></th>\n",
       "      <th></th>\n",
       "    </tr>\n",
       "  </thead>\n",
       "  <tbody>\n",
       "    <tr>\n",
       "      <th>319701</th>\n",
       "      <td>Having a girlfriend in a dream seems better th...</td>\n",
       "      <td>non-suicide</td>\n",
       "    </tr>\n",
       "    <tr>\n",
       "      <th>207064</th>\n",
       "      <td>I'd rather die than live like this.I really wo...</td>\n",
       "      <td>suicide</td>\n",
       "    </tr>\n",
       "    <tr>\n",
       "      <th>212566</th>\n",
       "      <td>Point me to the right direction?Saw some info ...</td>\n",
       "      <td>suicide</td>\n",
       "    </tr>\n",
       "    <tr>\n",
       "      <th>197805</th>\n",
       "      <td>The downvote button should only be used if a c...</td>\n",
       "      <td>non-suicide</td>\n",
       "    </tr>\n",
       "    <tr>\n",
       "      <th>64754</th>\n",
       "      <td>Anyone else feeling just sad? I just feel sad,...</td>\n",
       "      <td>non-suicide</td>\n",
       "    </tr>\n",
       "  </tbody>\n",
       "</table>\n",
       "</div>"
      ],
      "text/plain": [
       "                                                         text        class\n",
       "Unnamed: 0                                                                \n",
       "319701      Having a girlfriend in a dream seems better th...  non-suicide\n",
       "207064      I'd rather die than live like this.I really wo...      suicide\n",
       "212566      Point me to the right direction?Saw some info ...      suicide\n",
       "197805      The downvote button should only be used if a c...  non-suicide\n",
       "64754       Anyone else feeling just sad? I just feel sad,...  non-suicide"
      ]
     },
     "execution_count": 5,
     "metadata": {},
     "output_type": "execute_result"
    }
   ],
   "source": [
    "df.sample(5)"
   ]
  },
  {
   "cell_type": "code",
   "execution_count": 6,
   "metadata": {},
   "outputs": [
    {
     "data": {
      "text/plain": [
       "text     object\n",
       "class    object\n",
       "dtype: object"
      ]
     },
     "execution_count": 6,
     "metadata": {},
     "output_type": "execute_result"
    }
   ],
   "source": [
    "df.dtypes"
   ]
  },
  {
   "cell_type": "code",
   "execution_count": 7,
   "metadata": {},
   "outputs": [
    {
     "data": {
      "text/plain": [
       "non-suicide    0.562928\n",
       "suicide        0.437072\n",
       "Name: class, dtype: float64"
      ]
     },
     "execution_count": 7,
     "metadata": {},
     "output_type": "execute_result"
    }
   ],
   "source": [
    "df['class'].value_counts(dropna=False, normalize=True)"
   ]
  },
  {
   "cell_type": "code",
   "execution_count": 19,
   "metadata": {},
   "outputs": [],
   "source": [
    "def remove_non_ascii(word):\n",
    "    \"\"\"Remove non-ASCII characters from tokenized word\"\"\"\n",
    "    new_word = unicodedata.normalize('NFKD', word).encode('ascii', 'ignore').decode('utf-8', 'ignore')\n",
    "    return new_word\n",
    "\n",
    "def to_lowercase(word):\n",
    "    \"\"\"Convert all characters to lowercase from tokenized word\"\"\"\n",
    "    new_word = word.lower()\n",
    "    return new_word\n",
    "\n",
    "def remove_punctuation(word):\n",
    "    \"\"\"Remove punctuation from tokenized word\"\"\"\n",
    "    new_word = re.sub(r'[^\\w\\s]', '', word)\n",
    "    return new_word\n",
    "\n",
    "def replace_numbers(word):\n",
    "    \"\"\"Replace all interger occurrences in tokenized word with textual representation\"\"\"\n",
    "    p = inflect.engine()\n",
    "    if word.isdigit():\n",
    "        new_word = p.number_to_words(word)\n",
    "    else:\n",
    "        new_word = word\n",
    "    return new_word\n",
    "\n",
    "def remove_contractions(word):\n",
    "    \"\"\"Remove contractions tokenized word\"\"\"\n",
    "    new_word = contractions.fix(word)\n",
    "    return new_word\n",
    "\n",
    "def preprocessing(words):\n",
    "    new_words = []\n",
    "    for word in words:\n",
    "        new_word = remove_non_ascii(word)\n",
    "        print(\"ascii\")\n",
    "        new_word = to_lowercase(new_word)\n",
    "        print(\"lowercase\")\n",
    "        new_word = remove_punctuation(new_word)\n",
    "        print(\"puntuation\")\n",
    "        if new_word != '':\n",
    "            #new_word = replace_numbers(new_word)\n",
    "            if new_word not in stopwords.words('english'):\n",
    "                new_word = remove_contractions(new_word)\n",
    "                print(\"contraction\")\n",
    "                new_words.append(new_word)\n",
    "    return new_words"
   ]
  },
  {
   "cell_type": "code",
   "execution_count": 21,
   "metadata": {},
   "outputs": [],
   "source": [
    "df['words'] = df['text'].apply(nltk.word_tokenize).apply(preprocessing) #Aplica la eliminación del ruido\n",
    "df.head()"
   ]
  },
  {
   "cell_type": "code",
   "execution_count": null,
   "metadata": {},
   "outputs": [],
   "source": [
    "x_train, x_test, y_train, y_test = train_test_split(df['text'], df['class'], test_size=0.3, random_state=28)"
   ]
  },
  {
   "cell_type": "code",
   "execution_count": null,
   "metadata": {},
   "outputs": [],
   "source": [
    "fig, ax = plt.subplots(1, 2, figsize=(12, 12))\n",
    "ax[0].pie(y_train.value_counts(), labels=y_train.value_counts().index, autopct='%1.1f%%')\n",
    "ax[0].set_title('Train')\n",
    "ax[1].pie(y_test.value_counts(), labels=y_test.value_counts().index, autopct='%1.1f%%')\n",
    "ax[1].set_title('Test')\n",
    "plt.show()"
   ]
  },
  {
   "cell_type": "code",
   "execution_count": null,
   "metadata": {},
   "outputs": [],
   "source": [
    "nltk.download('stopwords')\n",
    "nltk.download('punkt')\n",
    "nltk.download('wordnet')\n",
    "stopwords = set(stopwords.words('english'))\n",
    "stopwords.union({'4661', 'meeeeeeeeeeee', 'ja', '01457654035', 'reaally', '3624', '3904512441', 'mesooo', 'ان فرع', ''})"
   ]
  },
  {
   "cell_type": "code",
   "execution_count": null,
   "metadata": {},
   "outputs": [],
   "source": [
    "def tokenize(text):\n",
    "    tokenizer = nltk.TweetTokenizer()\n",
    "    return tokenizer.tokenize(text)"
   ]
  },
  {
   "cell_type": "code",
   "execution_count": null,
   "metadata": {},
   "outputs": [],
   "source": [
    "bow = CountVectorizer(tokenizer=tokenize, stop_words=stopwords)\n",
    "x_train_bow = bow.fit_transform(x_train)\n",
    "x_test_bow = bow.transform(x_test)\n",
    "len(bow.get_feature_names())"
   ]
  },
  {
   "cell_type": "code",
   "execution_count": null,
   "metadata": {},
   "outputs": [],
   "source": [
    "#tfidf = TfidfVectorizer(tokenizer=tokenize, stop_words=stopwords)\n",
    "#x_train_tfidf = tfidf.fit_transform(x_train)\n",
    "#x_test_tfidf = tfidf.transform(x_test)\n",
    "#len(tfidf.get_feature_names())"
   ]
  },
  {
   "cell_type": "markdown",
   "metadata": {},
   "source": [
    "<h3>Random forest usando BoW</h3>"
   ]
  },
  {
   "cell_type": "code",
   "execution_count": null,
   "metadata": {},
   "outputs": [],
   "source": [
    "bow_model = RandomForestClassifier(random_state = 2, n_estimators= 12, max_depth=10)"
   ]
  },
  {
   "cell_type": "code",
   "execution_count": null,
   "metadata": {},
   "outputs": [],
   "source": [
    "bow_model.fit(x_train_bow, y_train)"
   ]
  },
  {
   "cell_type": "code",
   "execution_count": null,
   "metadata": {},
   "outputs": [],
   "source": [
    "# La 'feature importance' en modelos basados en árboles de decisión indican cuales son las características más importantes al momento de tomar una decisión\n",
    "pd.Series(bow_model.feature_importances_, index = bow.vocabulary_).sort_values().tail(40).plot.barh(figsize = (15, 10))"
   ]
  },
  {
   "cell_type": "code",
   "execution_count": null,
   "metadata": {},
   "outputs": [],
   "source": [
    "bow_estimators = bow_model.estimators_\n",
    "print('Number of trees:', len(bow_estimators))\n",
    "print('Trees depth (mean):', np.mean([tree.get_depth() for tree in bow_estimators]))"
   ]
  },
  {
   "cell_type": "code",
   "execution_count": null,
   "metadata": {},
   "outputs": [],
   "source": [
    "y_train_bow_predict = bow_model.predict(x_train_bow)\n",
    "y_test_bow_predict = bow_model.predict(bow.transform(x_test))"
   ]
  },
  {
   "cell_type": "code",
   "execution_count": null,
   "metadata": {},
   "outputs": [],
   "source": [
    "ConfusionMatrixDisplay.from_predictions(y_train, y_train_bow_predict)"
   ]
  },
  {
   "cell_type": "code",
   "execution_count": null,
   "metadata": {},
   "outputs": [],
   "source": [
    "ConfusionMatrixDisplay.from_predictions(y_test, y_test_bow_predict)"
   ]
  },
  {
   "cell_type": "code",
   "execution_count": null,
   "metadata": {},
   "outputs": [],
   "source": [
    "from sklearn.metrics import ConfusionMatrixDisplay, precision_score, recall_score, f1_score\n",
    "import pickle"
   ]
  },
  {
   "cell_type": "code",
   "execution_count": null,
   "metadata": {},
   "outputs": [],
   "source": [
    "if len(bow_model.classes_) == 2:\n",
    "    print('Precision:', precision_score(y_train, y_train_bow_predict, pos_label = 'suicide'))\n",
    "    print('Recall:', recall_score(y_train, y_train_bow_predict, pos_label = 'suicide'))\n",
    "    print('F1:', f1_score(y_train, y_train_bow_predict, pos_label = 'suicide'))\n",
    "else:\n",
    "    # Para casos no binarios, es común calcular las métricas para cada clase\n",
    "    print('Precision:', precision_score(y_train, y_train_bow_predict, average = None))\n",
    "    print('Recall:', recall_score(y_train, y_train_bow_predict, average = None))\n",
    "    print('F1:', f1_score(y_train, y_train_bow_predict, average = None))"
   ]
  },
  {
   "cell_type": "code",
   "execution_count": null,
   "metadata": {},
   "outputs": [],
   "source": [
    "if len(bow_model.classes_) == 2:\n",
    "    print('Precision:', precision_score(y_test, y_test_bow_predict, pos_label = 'suicide'))\n",
    "    print('Recall:', recall_score(y_test, y_test_bow_predict, pos_label = 'suicide'))\n",
    "    print('F1:', f1_score(y_test, y_test_bow_predict, pos_label = 'suicide'))\n",
    "else:\n",
    "    # Para casos no binarios, es común calcular las métricas para cada clase\n",
    "    print('Precision:', precision_score(y_test, y_test_bow_predict, average = None))\n",
    "    print('Recall:', recall_score(y_test, y_test_bow_predict, average = None))\n",
    "    print('F1:', f1_score(y_test, y_test_bow_predict, average = None))"
   ]
  },
  {
   "cell_type": "code",
   "execution_count": null,
   "metadata": {},
   "outputs": [],
   "source": [
    "from datetime import datetime\n",
    "now = datetime.now()\n",
    "date = now.date()\n",
    "time = now.time().strftime(\"%H-%M-%S\")"
   ]
  },
  {
   "cell_type": "code",
   "execution_count": null,
   "metadata": {},
   "outputs": [],
   "source": [
    "nombre=\"modelo_dia_\"+str(date)+\"_hora_\"+str(time)+\".pkl\"\n",
    "pickle.dump(bow_model,open(nombre,\"wb\"))"
   ]
  },
  {
   "cell_type": "code",
   "execution_count": null,
   "metadata": {},
   "outputs": [],
   "source": [
    "#f=open(\"primermodelo.pkl\",'rb')\n",
    "#arbolito = pickle.load(f)\n",
    "#print(arbolito)"
   ]
  }
 ],
 "metadata": {
  "kernelspec": {
   "display_name": "Python 3.10.4 64-bit",
   "language": "python",
   "name": "python3"
  },
  "language_info": {
   "codemirror_mode": {
    "name": "ipython",
    "version": 3
   },
   "file_extension": ".py",
   "mimetype": "text/x-python",
   "name": "python",
   "nbconvert_exporter": "python",
   "pygments_lexer": "ipython3",
   "version": "3.10.4"
  },
  "orig_nbformat": 4,
  "vscode": {
   "interpreter": {
    "hash": "680909a85cd0f96ba1c50ae49c7276dc4874e63b5fd1d1624a0b59680dc2cd74"
   }
  }
 },
 "nbformat": 4,
 "nbformat_minor": 2
}
